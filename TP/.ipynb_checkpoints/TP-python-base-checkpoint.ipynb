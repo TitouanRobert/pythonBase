{
 "cells": [
  {
   "cell_type": "markdown",
   "metadata": {},
   "source": [
    "# Exercice python base"
   ]
  },
  {
   "cell_type": "markdown",
   "metadata": {},
   "source": [
    "## Interger exercice le compte est bon:\n",
    "\n",
    "A partir des entiers suivant former le nombre 4636 (ou approchez vous en le plus possible). (5 minutes)\n",
    "\n",
    "2, 3, 4, 8, 23, 42\n",
    "\n",
    "Vous pouvez utiliser toutes les opérations de bases pour vos calculs mais vous devez vous servir de python..."
   ]
  },
  {
   "cell_type": "code",
   "execution_count": 1,
   "metadata": {},
   "outputs": [
    {
     "data": {
      "text/plain": [
       "4636"
      ]
     },
     "execution_count": 1,
     "metadata": {},
     "output_type": "execute_result"
    }
   ],
   "source": [
    "(8**2 - 3) * 4 * (42 - 23)"
   ]
  },
  {
   "cell_type": "markdown",
   "metadata": {},
   "source": [
    "## Un deuxième :\n",
    "\n",
    "A partir des entiers suivant former le nombre 58 (ou approchez vous en le plus possible). (5 minutes)\n",
    "\n",
    "2, 4, 5, 8, 30"
   ]
  },
  {
   "cell_type": "code",
   "execution_count": 2,
   "metadata": {},
   "outputs": [
    {
     "data": {
      "text/plain": [
       "58"
      ]
     },
     "execution_count": 2,
     "metadata": {},
     "output_type": "execute_result"
    }
   ],
   "source": [
    "2**4 * 5 + 8 - 30"
   ]
  },
  {
   "cell_type": "markdown",
   "metadata": {},
   "source": [
    "## Exercice Importer une fonction\n",
    "\n",
    "Importer la fonction uniform du package **random**. L'utiliser et en afficher la documentation. (help)"
   ]
  },
  {
   "cell_type": "code",
   "execution_count": 17,
   "metadata": {},
   "outputs": [
    {
     "name": "stdout",
     "output_type": "stream",
     "text": [
      "Help on method uniform in module random:\n",
      "\n",
      "uniform(a, b) method of random.Random instance\n",
      "    Get a random number in the range [a, b) or [a, b] depending on rounding.\n",
      "\n"
     ]
    }
   ],
   "source": [
    "from random import uniform as unif\n",
    "unif(2, 3)\n",
    "help(unif)"
   ]
  },
  {
   "cell_type": "markdown",
   "metadata": {},
   "source": [
    "## Exercice float : multiplier un float et un interger\n",
    "\n",
    "Ca marche, typage faible."
   ]
  },
  {
   "cell_type": "markdown",
   "metadata": {},
   "source": [
    "## Exercice opérateur **et** et **ou**\n",
    "\n",
    "Donner le résultat des opérations suivantes :\n",
    "\n",
    "- print(True & False)\n",
    "- print(True | False)\n",
    "- print((True | False) & False)\n",
    "- print(False & False)"
   ]
  },
  {
   "cell_type": "code",
   "execution_count": null,
   "metadata": {},
   "outputs": [],
   "source": [
    "print(True & False)\n",
    "print(True | False)\n",
    "print((True | False) & False)\n",
    "print(False & False)"
   ]
  },
  {
   "cell_type": "markdown",
   "metadata": {},
   "source": [
    "## Exercice sur les strings\n",
    "\n",
    "Avec 3 arguments en entrée (nom, gain, devise) renvoyer une phrase XX à gagné YY ZZ.\n",
    "\n",
    "Il y a deux moyens d'écrire ce code, faire les 2."
   ]
  },
  {
   "cell_type": "code",
   "execution_count": 3,
   "metadata": {},
   "outputs": [
    {
     "name": "stdout",
     "output_type": "stream",
     "text": [
      "Titouan à gagné 10 euros\n",
      "Titouan à gagné 10 euros\n"
     ]
    }
   ],
   "source": [
    "nom = \"Titouan\"\n",
    "gain = \"10\"\n",
    "devise = \"euros\"\n",
    "\n",
    "print(nom + \" à gagné \" + gain + \" \" + devise)\n",
    "print(\"{} à gagné {} {}\".format(nom, gain, devise))\n",
    "\n",
    "\n"
   ]
  },
  {
   "cell_type": "markdown",
   "metadata": {},
   "source": [
    "## Exercice sur les dates\n",
    "\n",
    "Calculer votre age exacte (vous pouvez tricher!)\n",
    "\n",
    "Calculer l'age d'un utilisateur en lui demandant de saisir ca date de naissance (fonction **input**)"
   ]
  },
  {
   "cell_type": "markdown",
   "metadata": {},
   "source": [
    "## Exercice définition de fonctions:\n",
    "\n",
    "définir les fonctions suivantes :\n",
    "\n",
    "multiplier un nombre par 2\n",
    "\n",
    "faire la somme de 2 nombres\n",
    "\n",
    "faire le produit de 3 nombres\n",
    "\n",
    "ré écrire la fonction puissance \n"
   ]
  },
  {
   "cell_type": "code",
   "execution_count": 10,
   "metadata": {},
   "outputs": [
    {
     "data": {
      "text/plain": [
       "3"
      ]
     },
     "execution_count": 10,
     "metadata": {},
     "output_type": "execute_result"
    }
   ],
   "source": [
    "def factorielle(n, n2):\n",
    "    if n2 == 1:\n",
    "        return n\n",
    "    else:\n",
    "        return  n * factorielle(n, n2 - 1)\n",
    "    \n",
    "factorielle(3, 1)"
   ]
  },
  {
   "cell_type": "markdown",
   "metadata": {},
   "source": [
    "## Exercice sur les supérieurs, inférieurs ....\n",
    "\n",
    "Ecrire une fonction qui renvoie False si on lui rentre True et inversement\n",
    "\n",
    "Ecrire une fonction qui prend deux nombre en paramètres et qui envoie False si ils sont égaux (True sinon)"
   ]
  },
  {
   "cell_type": "markdown",
   "metadata": {},
   "source": [
    "## Exercice sur Les listes :\n",
    "\n",
    "Ecrire une fonction qui concataine deux listes\n",
    "\n",
    "## Semaine\n",
    "Constituez une liste semaine contenant les 7 jours de la semaine.\n",
    "\n",
    "1) A partir de cette liste, comment récupérez-vous seulement les 5 premiers jours de la semaine d'une part, et ceux du week-end d'autre part ? Utilisez pour cela l'indiçage.\n",
    "\n",
    "2) Cherchez un autre moyen pour arriver au même résultat (en utilisant un autre indiçage).\n",
    "\n",
    "3) Trouvez deux manières pour accéder au dernier jour de la semaine.\n",
    "\n",
    "4) Inversez les jours de la semaine en une commande."
   ]
  },
  {
   "cell_type": "code",
   "execution_count": 9,
   "metadata": {},
   "outputs": [
    {
     "data": {
      "text/plain": [
       "['Dimanche', 'Samedi', 'Vendredi', 'Jeudi', 'Mercredi', 'Mardi', 'Lundi']"
      ]
     },
     "execution_count": 9,
     "metadata": {},
     "output_type": "execute_result"
    }
   ],
   "source": [
    "S = ['Lundi','Mardi','Mercredi','Jeudi','Vendredi','Samedi','Dimanche']\n",
    "\n",
    "\n",
    "S[:5]\n",
    "\n",
    "S[5:7]\n",
    "\n",
    "S[:-2]\n",
    "S[-2:]\n",
    "\n",
    "S[6]\n",
    "S[-1]\n",
    "\n",
    "S.reverse()\n",
    "S\n",
    "\n",
    "Semaine = ['Lundi','Mardi','Mercredi','Jeudi','Vendredi','Samedi','Dimanche']\n",
    "Semaine[::-1]"
   ]
  },
  {
   "cell_type": "markdown",
   "metadata": {},
   "source": [
    "définir la liste : liste = [17,38,10,15,72], puis effectuez les actions suivantes :  \n",
    "- triez et affichez la liste   \n",
    "- ajoutez l’élément 12 à la liste et affichez la liste   \n",
    "- renversez et affichez la liste  \n",
    "- affichez l’indice de l’élément 17   \n",
    "- enlevez l’élément 38 et affichez la liste  \n",
    "- affichez la sous-liste du 2eme au 3eme élément  \n",
    "- affichez la sous-liste du début au 2eme élément  \n",
    "- affichez la sous-liste du 3eme élément à la fin de la liste  \n",
    "- affichez la sous-liste complète de la liste  \n",
    "- affichez le dernier élément en utilisant un indiçage négatif"
   ]
  },
  {
   "cell_type": "code",
   "execution_count": 10,
   "metadata": {},
   "outputs": [
    {
     "name": "stdout",
     "output_type": "stream",
     "text": [
      "[10, 17, 25, 38, 72]\n",
      "[10, 17, 25, 38, 72, 12]\n",
      "[12, 72, 38, 25, 17, 10]\n",
      "4 \n",
      "\n",
      "[12, 72, 25, 17, 10]\n",
      "nombres[1:3]= [72, 25]\n",
      "nombres[:2]= [12, 72]\n",
      "nombres[2:]= [25, 17, 10]\n",
      "nombres[:]= [12, 72, 25, 17, 10]\n",
      "nombres[-1]= 10\n"
     ]
    }
   ],
   "source": [
    "nombres=[17,38,10,25,72]\n",
    "\n",
    "nombres.sort()\n",
    "print(nombres)\n",
    "\n",
    "nombres.append(12)\n",
    "print(nombres)\n",
    "\n",
    "nombres.reverse()\n",
    "print(nombres)\n",
    "\n",
    "print(nombres.index(17),'\\n')\n",
    "\n",
    "nombres.remove(38)\n",
    "print(nombres)\n",
    "\n",
    "print(\"nombres[1:3]=\",nombres[1:3])\n",
    "print(\"nombres[:2]=\",nombres[:2])\n",
    "print(\"nombres[2:]=\",nombres[2:])\n",
    "print(\"nombres[:]=\",nombres[:])\n",
    "print(\"nombres[-1]=\",nombres[-1])"
   ]
  },
  {
   "cell_type": "markdown",
   "metadata": {},
   "source": [
    "## Exercice sur les conditions\n",
    "- Ecrire une structure conditionnelle qui, selon la valeur de la variable `v` revoie des prints associés:\n",
    "    - `v` est strictement négative\n",
    "    - `v` est entre 0 et 100 (compris)\n",
    "    - `v` est strictement supérieur à 100\n",
    "\n",
    "\n",
    "- Ecrire une fonction `parite(u)` qui retourne `'pair'` si u est pair ou `'impair'` si u est impair."
   ]
  },
  {
   "cell_type": "code",
   "execution_count": 12,
   "metadata": {},
   "outputs": [
    {
     "name": "stdout",
     "output_type": "stream",
     "text": [
      "neg\n",
      "1\n",
      "True\n",
      "False\n"
     ]
    }
   ],
   "source": [
    "note = -1\n",
    "\n",
    "if note < 0:\n",
    "    print(\"neg\")\n",
    "elif note >= 0 | note <= 100: \n",
    "    print(\"0 - 100\")\n",
    "elif note > 100:\n",
    "    print(\"sup 100\")\n",
    "    \n",
    "\n",
    "print(3%2)\n",
    "def parite(n):\n",
    "    if n%2 == 0 :\n",
    "        return(True)\n",
    "    else:\n",
    "        return(False)\n",
    "print(parite(2))\n",
    "print(parite(3))"
   ]
  },
  {
   "cell_type": "markdown",
   "metadata": {},
   "source": [
    "## Exercice sur les boucles\n",
    "\n",
    "1\n",
    "\n",
    "A l'aide d'une boucle `for` et de la fonction `range()`, imprimer tous les nombres compris strictement entre 1 et 15\n",
    "\n",
    "2\n",
    "\n",
    "Ecrire une boucle qui multiplie tous les éléments d'une liste par 3.\n",
    "\n",
    "3\n",
    "\n",
    "A l'aide d'une boucle `while` et d'un `if` avec un nombre en entrée :\n",
    "\n",
    "- Si un nombre est divisible par 2 alors le diviser par 2\n",
    "- Sinon le multiplier par 3 et ajouter 1\n",
    "\n",
    "Arrêter quand nous obtenons le nombre 1\n",
    "Ne pas oublier de printer le nombre obtenus après chaque opération.\n",
    "\n",
    "**Pour information** : à priori tous les nombres finirons par donner **1** (pas de boucles infinies). Ceci n'a jamais été démontré, un million de dollars est donné au premier apportant cette preuve mathématique.\n"
   ]
  },
  {
   "cell_type": "code",
   "execution_count": 23,
   "metadata": {},
   "outputs": [
    {
     "name": "stdout",
     "output_type": "stream",
     "text": [
      "[0, 1, 2]\n",
      "1\n",
      "2\n",
      "3\n",
      "0\n",
      "3\n",
      "6\n"
     ]
    }
   ],
   "source": [
    "listB = list(range(3))\n",
    "print(listB)\n",
    "for i in listB:\n",
    "    print(i + 1)\n",
    "    \n",
    "for i in listB:\n",
    "    print(i * 3)"
   ]
  },
  {
   "cell_type": "code",
   "execution_count": 11,
   "metadata": {},
   "outputs": [
    {
     "name": "stdout",
     "output_type": "stream",
     "text": [
      "50.0\n",
      "25.0\n",
      "76.0\n",
      "38.0\n",
      "19.0\n",
      "58.0\n",
      "29.0\n",
      "88.0\n",
      "44.0\n",
      "22.0\n",
      "11.0\n",
      "34.0\n",
      "17.0\n",
      "52.0\n",
      "26.0\n",
      "13.0\n",
      "40.0\n",
      "20.0\n",
      "10.0\n",
      "5.0\n",
      "16.0\n",
      "8.0\n",
      "4.0\n",
      "2.0\n",
      "1.0\n"
     ]
    }
   ],
   "source": [
    "nombre = 100\n",
    "while nombre != 1:\n",
    "    if nombre%2 == 0:\n",
    "        nombre = nombre / 2\n",
    "    else:\n",
    "        nombre = nombre * 3 + 1\n",
    "    print(nombre)"
   ]
  },
  {
   "cell_type": "markdown",
   "metadata": {},
   "source": [
    "## Jeux du plus ou moins (20 min)\n",
    "\n",
    "Pour commencer l'ordinateur va choisir au **hasard** un nombre compris entre 1 et 100. (fonction **randint**)\n",
    "\n",
    "Ensuite l'utilisateur essaie de **deviner** ce nombre :\n",
    "\n",
    "- Si le nombre saisie est plus grand que celui tiré par l'ordinateur afficher **+** \n",
    "- Si le nombre saisie est plus petit que celui tiré par l'ordinateur afficher **-**\n",
    "- Sinon afficher **gagné** et sortir de la boucle"
   ]
  },
  {
   "cell_type": "code",
   "execution_count": null,
   "metadata": {},
   "outputs": [],
   "source": [
    "import random\n",
    "nombre = random.randint(0, 100)\n",
    "result = -1\n",
    "while result != nombre:\n",
    "    result = int(input(\"Saisir un nombre\"))\n",
    "    if(result > nombre):\n",
    "        print(\"-\")\n",
    "    elif (result < nombre):\n",
    "        print(\"+\")\n",
    "    else:\n",
    "        print(\"Win\")\n"
   ]
  },
  {
   "cell_type": "markdown",
   "metadata": {},
   "source": [
    "## Exercice suite de Fibonnaci :\n",
    "\n",
    "Ecrire une fonction `fibo(n)` qui retourne le `n` premiers termes de la suite de Fibonnaci contenus dans une liste.\n",
    "\n",
    "On doit donc avoir :\n",
    "- `fibo[0] = []`\n",
    "- `fibo[1] = [0]`\n",
    "- `fibo[2] = [0, 1]`\n",
    "- `fibo[3] = [0, 1, 1]`\n",
    "- etc ..."
   ]
  },
  {
   "cell_type": "code",
   "execution_count": null,
   "metadata": {},
   "outputs": [],
   "source": [
    "def fibo_correction(n):\n",
    "    \"\"\" \n",
    "    Renvoie les n premiers termes de la suite de Fibonnaci\n",
    "    \"\"\"\n",
    "    L = []\n",
    "    if n == 0:\n",
    "        L = []\n",
    "    elif n == 1:\n",
    "        L = [0]\n",
    "    else :\n",
    "        L = [0,1]\n",
    "        for i in range(n-2):\n",
    "            L.append(L[-1] + L[-2])\n",
    "    return L"
   ]
  },
  {
   "cell_type": "markdown",
   "metadata": {},
   "source": [
    "## Fizz-Buzz\n",
    "\n",
    "Ecrire un programme qui imprime les entiers entre 1 et 100, mais qui\n",
    "- remplace les multiples de 3 par \"Fizz\"\n",
    "- les multiples de 5 par \"Buzz\"\n",
    "- les multiples **des** deux par \"FizzBuzz\""
   ]
  },
  {
   "cell_type": "code",
   "execution_count": 3,
   "metadata": {},
   "outputs": [
    {
     "name": "stdout",
     "output_type": "stream",
     "text": [
      "1\n",
      "2\n",
      "Fizz\n",
      "4\n",
      "Buzz\n",
      "Fizz\n",
      "7\n",
      "8\n",
      "Fizz\n",
      "Buzz\n",
      "11\n",
      "Fizz\n",
      "13\n",
      "14\n",
      "FizzBuzz\n",
      "16\n",
      "17\n",
      "Fizz\n",
      "19\n",
      "Buzz\n",
      "Fizz\n",
      "22\n",
      "23\n",
      "Fizz\n",
      "Buzz\n",
      "26\n",
      "Fizz\n",
      "28\n",
      "29\n",
      "FizzBuzz\n",
      "31\n",
      "32\n",
      "Fizz\n",
      "34\n",
      "Buzz\n",
      "Fizz\n",
      "37\n",
      "38\n",
      "Fizz\n",
      "Buzz\n",
      "41\n",
      "Fizz\n",
      "43\n",
      "44\n",
      "FizzBuzz\n",
      "46\n",
      "47\n",
      "Fizz\n",
      "49\n",
      "Buzz\n",
      "Fizz\n",
      "52\n",
      "53\n",
      "Fizz\n",
      "Buzz\n",
      "56\n",
      "Fizz\n",
      "58\n",
      "59\n",
      "FizzBuzz\n",
      "61\n",
      "62\n",
      "Fizz\n",
      "64\n",
      "Buzz\n",
      "Fizz\n",
      "67\n",
      "68\n",
      "Fizz\n",
      "Buzz\n",
      "71\n",
      "Fizz\n",
      "73\n",
      "74\n",
      "FizzBuzz\n",
      "76\n",
      "77\n",
      "Fizz\n",
      "79\n",
      "Buzz\n",
      "Fizz\n",
      "82\n",
      "83\n",
      "Fizz\n",
      "Buzz\n",
      "86\n",
      "Fizz\n",
      "88\n",
      "89\n",
      "FizzBuzz\n",
      "91\n",
      "92\n",
      "Fizz\n",
      "94\n",
      "Buzz\n",
      "Fizz\n",
      "97\n",
      "98\n",
      "Fizz\n",
      "Buzz\n"
     ]
    }
   ],
   "source": [
    "for x in range(1, 101):\n",
    " \n",
    "    fizz = x % 3 == 0\n",
    "    buzz = x % 5 == 0\n",
    "    \n",
    "    if fizz and buzz :\n",
    "        print(\"FizzBuzz\")\n",
    "    elif fizz:\n",
    "        print(\"Fizz\")\n",
    "    elif buzz:\n",
    "        print(\"Buzz\")\n",
    "    else:\n",
    "        print(x)"
   ]
  },
  {
   "cell_type": "markdown",
   "metadata": {},
   "source": [
    "## Exercices diverses\n",
    "\n",
    "\n",
    "## String sur chaine de caractères (10 min)\n",
    "\n",
    "- Ecrire un programme qui compte le nombre de **voyelle** dans une chaine de caractère, utiliser une boucle **for**\n",
    "\n",
    "**Nb** le mot clé `in` : 'a' in [\"a\", \"v\"]\n",
    "\n"
   ]
  },
  {
   "cell_type": "code",
   "execution_count": null,
   "metadata": {},
   "outputs": [],
   "source": [
    "mot = \"coronavirus\"\n",
    "voyelles = [\"a\", \"e\", \"i\", \"o\", \"u\", \"y\"]\n",
    "\n",
    "compt = 0\n",
    "for i in mot:\n",
    "    if i in voyelles:\n",
    "        compt = compt + 1\n",
    "print(compt)"
   ]
  },
  {
   "cell_type": "markdown",
   "metadata": {},
   "source": [
    "## Pierre-Papier-Ciseaux (30 min)\n",
    "\n",
    "Une fonction qui permet de jouer à Pierre-Papier-Ciseaux contre l'ordinateur avec elle prend en entrée une chaîne de caractère :\n",
    "\n",
    "- Si cette chaine n'est pas papier ou ciseaux renvoyer une erreur \n",
    "- Sinon, utiliser randint pour faire piocher l'ordinateur\n",
    "- Imprimer le résultat en respectant les règles pierre papier ciseaux (on peut tout faire avec des if)"
   ]
  },
  {
   "cell_type": "code",
   "execution_count": null,
   "metadata": {},
   "outputs": [],
   "source": [
    "from random import *\n",
    " \n",
    "def choix_utilisateur():\n",
    "    \"\"\"Cette fonction permet au joueur de choisir son mouvement\"\"\"\n",
    "    joueur = input(\"\")\n",
    "    while joueur not in [\"pierre\",\"papier\",\"ciseaux\"]:\n",
    "        joueur = input(\"\")\n",
    "    return(joueur)\n",
    " \n",
    "def choix_ordinateur():\n",
    "    \"\"\"Cette fonction permet à l'ordinateur de générer aléatoirement un mouvement\"\"\"\n",
    "    n = randint(1,3)\n",
    "    if n == 1:\n",
    "        ordi = \"pierre\"\n",
    "    elif n==2:\n",
    "        ordi = \"papier\"\n",
    "    else:\n",
    "        ordi = \"ciseaux\"\n",
    "    return(ordi)\n",
    " \n",
    "a = choix_utilisateur()\n",
    "b = choix_ordinateur()\n",
    "\n",
    "print(b)\n",
    "if a == \"pierre\" and b == \"ciseaux\":\n",
    "    print(\"Vous avez gagne.\")\n",
    "elif a == \"pierre\" and b == \"papier\":\n",
    "    print(\"Vous avez perdu.\")\n",
    "elif a == \"pierre\" and b == \"pierre\":\n",
    "    print(\"Egalite.\")\n",
    "\n",
    "if a == \"papier\" and b == \"pierre\":\n",
    "    print(\"Vous avez gagne.\")\n",
    "elif a == \"papier\" and b == \"ciseaux\":\n",
    "    print(\"Vous avez perdu.\")\n",
    "elif a == \"papier\" and b == \"papier\":\n",
    "    print(\"Egalite.\")\n",
    "\n",
    "if a == \"ciseaux\" and b == \"papier\":\n",
    "    print(\"Vous avez gagne.\")\n",
    "elif a == \"ciseaux\" and b == \"pierre\":\n",
    "    print(\"Vous avez perdu.\")\n",
    "elif a == \"ciseaux\" and b == \"ciseaux\":\n",
    "    print(\"Egalite.\")"
   ]
  },
  {
   "cell_type": "markdown",
   "metadata": {},
   "source": [
    "## Arbre au Pendu (50 min)\n",
    "\n",
    "Ecrire un programme qui permet de jouer au pendu :\n",
    "\n",
    "En entrée un mot saisie par le joueur 1.\n",
    "\n",
    "Ensuite le joueur 2 à 15 coups.\n",
    "\n",
    "A chaque tour afficher le mot avec des **_** pour les lettres manquantes.\n",
    "- Si il saisit une chaine de caractère avec une seule lettre : Regarder si la lettre est présente dans le mot\n",
    "    - Si oui alors remplacer les tirets par les lettres.\n",
    "    - Si non ajouter un coup (boucle while)\n",
    "- Si le joueur saisie une chaine de caractère de plus d'une lettre alors :\n",
    "    - La comparer au mot existant si c'est le bon mot alors sortir du jeux et marqué gagné\n",
    "    - Sinon ajouter un coup\n",
    "\n",
    "**Commencer l'exercice par découper en fonctions**"
   ]
  },
  {
   "cell_type": "code",
   "execution_count": null,
   "metadata": {},
   "outputs": [],
   "source": [
    "##La premiere fonction Pendu\n",
    "\n",
    "mot = \"comparaison\"\n",
    "lettre = \"n\"\n",
    "mot_vide = \"___________\"\n",
    "life = 5\n",
    "\n",
    "def remplir_world(lettre, mot, mot_vide, life):\n",
    "    win = 0\n",
    "    for i in range(0,len(mot)):\n",
    "        if mot[i] == lettre:\n",
    "            #https://stackoverflow.com/questions/10631473/str-object-does-not-support-item-assignment-in-python\n",
    "            #Petite astuce car mot_vide[i] ne fonctionne pas\n",
    "            list1 = list(mot_vide)\n",
    "            list1[i] = lettre\n",
    "            mot_vide = ''.join(list1)\n",
    "            win = win + 1\n",
    "    if win == 0:\n",
    "        life = life - 1\n",
    "    return mot_vide, life\n",
    "\n",
    "mot_vide, life = remplir_world(lettre, mot, mot_vide, life)\n",
    "print(mot_vide)\n",
    "print(life)\n",
    "\n",
    "lettre = \"a\"\n",
    "mot_vide, life = remplir_world(lettre, mot, mot_vide, life)\n",
    "print(mot_vide)\n",
    "print(life)\n",
    "\n",
    "lettre = \"z\"\n",
    "mot_vide, life = remplir_world(lettre, mot, mot_vide, life)\n",
    "print(mot_vide)\n",
    "print(life)"
   ]
  },
  {
   "cell_type": "code",
   "execution_count": null,
   "metadata": {},
   "outputs": [],
   "source": [
    "chaine = \"toto\"\n",
    "chaine = list(chaine)\n",
    "chaine[2] = \"A\"\n",
    "print(chaine)\n",
    "chaine = ''.join(chaine)\n",
    "chaine"
   ]
  },
  {
   "cell_type": "code",
   "execution_count": null,
   "metadata": {},
   "outputs": [],
   "source": [
    "life = 15\n",
    "mot_vide = \"_\" * len(mot)\n",
    "while life > 0:\n",
    "    usr = input(\"Saisir lettre ou mot\")\n",
    "    if len(usr) == 1:\n",
    "        mot_vide, life = remplir_world(usr, mot, mot_vide, life)\n",
    "    else:\n",
    "        if mot == usr:\n",
    "            print(\"Win\")\n",
    "            break\n",
    "        else:\n",
    "            life = life - 1\n",
    "    print(mot_vide)\n",
    "    print(life)    \n",
    "if(life == 0):\n",
    "    print(\"you loose\")"
   ]
  },
  {
   "cell_type": "markdown",
   "metadata": {},
   "source": [
    "##  Faire une fonction **div_euclid** (30 min)\n",
    "\n",
    "\n",
    "Nous allons enrichir cette **fonciton** au fur et à mesure de l'exercice\n",
    "\n",
    "- Dans la première version :\n",
    "    - Prend un nombre\n",
    "        - si il est divisible par **3** affiche : Ce nombre est divisible par 3\n",
    "        - sinon le reste de la division de ce nombre par 3 est X\n",
    "\n",
    "- deuxième version :\n",
    "    - Ajouter un deuxième **argument** qui permet de laisser le nombre **3** au choix de l'utilisateur \n",
    "\n",
    "A ce stade votre fonction à la forme f(X, Y) ou X et Y sont des **int**\n",
    "\n",
    "\n",
    "- une troisième version :\n",
    "    - Permet de saisir une liste à la place de X\n",
    "    \n",
    "- Une quatrième version :\n",
    "    - permet de saisir une liste à la place de Y\n"
   ]
  },
  {
   "cell_type": "markdown",
   "metadata": {},
   "source": [
    "## Molkki (2 heures)\n",
    "\n",
    "Ecrire un programme qui permet de jouer au **moolki** entre 2 équipes (**très dur**, PE à faire chez soi pour les intéressés)"
   ]
  },
  {
   "cell_type": "code",
   "execution_count": null,
   "metadata": {},
   "outputs": [],
   "source": []
  }
 ],
 "metadata": {
  "kernelspec": {
   "display_name": "Python 3",
   "language": "python",
   "name": "python3"
  },
  "language_info": {
   "codemirror_mode": {
    "name": "ipython",
    "version": 3
   },
   "file_extension": ".py",
   "mimetype": "text/x-python",
   "name": "python",
   "nbconvert_exporter": "python",
   "pygments_lexer": "ipython3",
   "version": "3.7.6"
  }
 },
 "nbformat": 4,
 "nbformat_minor": 4
}
