{
 "cells": [
  {
   "cell_type": "markdown",
   "metadata": {},
   "source": [
    "# Exercice python base\n",
    "\n"
   ]
  },
  {
   "cell_type": "markdown",
   "metadata": {},
   "source": [
    " <a id=\"imptf\"></a>\n",
    " \n",
    "## Exercice Importer une fonction\n",
    "\n",
    "Importer la fonction uniform du package **random**. L'utiliser et en afficher la documentation. (help)"
   ]
  },
  {
   "cell_type": "markdown",
   "metadata": {},
   "source": [
    "<a id='pyb'></a>\n",
    "## Exercice le compte est bon:\n",
    "\n",
    "A partir des entiers suivant former le nombre 4636 (ou approchez vous en le plus possible). (5 minutes)\n",
    "\n",
    "2, 3, 4, 8, 23, 42\n",
    "\n",
    "Vous pouvez utiliser toutes les opérations de bases pour vos calculs mais vous devez vous servir de python..."
   ]
  },
  {
   "cell_type": "markdown",
   "metadata": {},
   "source": [
    "## Un deuxième :\n",
    "\n",
    "A partir des entiers suivant former le nombre 58 (ou approchez vous en le plus possible). (5 minutes)\n",
    "\n",
    "2, 4, 5, 8, 30"
   ]
  },
  {
   "cell_type": "markdown",
   "metadata": {},
   "source": [
    " <a id=\"etou\"></a>\n",
    "\n",
    "## Exercice opérateur **et** et **ou**\n",
    "\n",
    "Donner le résultat des opérations suivantes :\n",
    "\n",
    "- print(True & False)\n",
    "- print(True | False)\n",
    "- print((True | False) & False)\n",
    "- print(False & False)"
   ]
  },
  {
   "cell_type": "markdown",
   "metadata": {},
   "source": [
    " <a id=\"str\"></a>\n",
    "\n",
    "\n",
    "## Exercice sur les strings\n",
    "\n",
    "Avec 3 arguments en entrée (nom, gain, devise) renvoyer une phrase XX à gagné YY ZZ.\n",
    "\n",
    "Il y a deux moyens d'écrire ce code, faire les 2."
   ]
  },
  {
   "cell_type": "markdown",
   "metadata": {},
   "source": [
    " <a id=\"dt\"></a>\n",
    "\n",
    "\n",
    "## Exercice sur les dates\n",
    "\n",
    "Calculer votre age exacte (vous pouvez tricher!)\n",
    "\n",
    "Calculer l'age d'un utilisateur en lui demandant de saisir ca date de naissance (fonction **input**)\n",
    "\n"
   ]
  },
  {
   "cell_type": "markdown",
   "metadata": {},
   "source": [
    "<a id=\"deff\"></a>\n",
    "\n",
    "\n",
    "## Exercice définition de fonctions:\n",
    "\n",
    "définir les fonctions suivantes :\n",
    "\n",
    "multiplier un nombre par 2\n",
    "\n",
    "faire la somme de 2 nombres\n",
    "\n",
    "faire le produit de 3 nombres\n",
    "\n",
    "ré écrire la fonction puissance \n"
   ]
  },
  {
   "cell_type": "markdown",
   "metadata": {},
   "source": [
    "## Exercice sur les supérieurs, inférieurs ....\n",
    "\n",
    "Ecrire une fonction qui renvoie False si on lui rentre True et inversement\n",
    "\n",
    "Ecrire une fonction qui prend deux nombre en paramètres et qui envoie False si ils sont égaux (True sinon)"
   ]
  },
  {
   "cell_type": "markdown",
   "metadata": {},
   "source": [
    " <a id=\"list\"></a>\n",
    "\n",
    "\n",
    "## Exercice sur Les listes :\n",
    "\n",
    "Ecrire une fonction qui concataine deux listes\n",
    "\n",
    "## Semaine\n",
    "Constituez une liste semaine contenant les 7 jours de la semaine.\n",
    "\n",
    "1) A partir de cette liste, comment récupérez-vous seulement les 5 premiers jours de la semaine d'une part, et ceux du week-end d'autre part ? Utilisez pour cela l'indiçage.\n",
    "\n",
    "2) Cherchez un autre moyen pour arriver au même résultat (en utilisant un autre indiçage).\n",
    "\n",
    "3) Trouvez deux manières pour accéder au dernier jour de la semaine.\n",
    "\n",
    "4) Inversez les jours de la semaine en une commande."
   ]
  },
  {
   "cell_type": "markdown",
   "metadata": {},
   "source": [
    "définir la liste : liste = [17,38,10,15,72], puis effectuez les actions suivantes :  \n",
    "- triez et affichez la liste   \n",
    "- ajoutez l’élément 12 à la liste et affichez la liste   \n",
    "- renversez et affichez la liste  \n",
    "- affichez l’indice de l’élément 17   \n",
    "- enlevez l’élément 38 et affichez la liste  \n",
    "- affichez la sous-liste du 2eme au 3eme élément  \n",
    "- affichez la sous-liste du début au 2eme élément  \n",
    "- affichez la sous-liste du 3eme élément à la fin de la liste  \n",
    "- affichez la sous-liste complète de la liste  \n",
    "- affichez le dernier élément en utilisant un indiçage négatif"
   ]
  },
  {
   "cell_type": "markdown",
   "metadata": {},
   "source": [
    " <a id=\"condi\"></a>\n",
    "\n",
    "\n",
    "## Exercice sur les conditions\n",
    "- Ecrire une structure conditionnelle qui, selon la valeur de la variable `v` revoie des prints associés:\n",
    "    - `v` est strictement négative\n",
    "    - `v` est entre 0 et 100 (compris)\n",
    "    - `v` est strictement supérieur à 100\n",
    "\n",
    "\n",
    "- Ecrire une fonction `parite(u)` qui retourne `'pair'` si u est pair ou `'impair'` si u est impair."
   ]
  },
  {
   "cell_type": "markdown",
   "metadata": {},
   "source": [
    " <a id=\"bcl\"></a>\n",
    "\n",
    "\n",
    "## Exercice sur les boucles\n",
    "\n",
    "1\n",
    "\n",
    "A l'aide d'une boucle `for` et de la fonction `range()`, imprimer tous les nombres compris strictement entre 1 et 15\n",
    "\n",
    "2\n",
    "\n",
    "Ecrire une boucle qui multiplie tous les éléments d'une liste par 3.\n",
    "\n",
    "3\n",
    "\n",
    "A l'aide d'une boucle `while` et d'un `if` avec un nombre en entrée :\n",
    "\n",
    "- Si un nombre est divisible par 2 alors le diviser par 2\n",
    "- Sinon le multiplier par 3 et ajouter 1\n",
    "\n",
    "Arrêter quand nous obtenons le nombre 1\n",
    "Ne pas oublier de printer le nombre obtenus après chaque opération.\n",
    "\n",
    "**Pour information** : à priori tous les nombres finirons par donner **1** (pas de boucles infinies). Ceci n'a jamais été démontré, un million de dollars est donné au premier apportant cette preuve mathématique.\n"
   ]
  },
  {
   "cell_type": "markdown",
   "metadata": {},
   "source": [
    " <a id=\"divr\"></a>\n",
    "\n",
    "\n",
    "## Jeux du plus ou moins (20 min)\n",
    "\n",
    "Pour commencer l'ordinateur va choisir au **hasard** un nombre compris entre 1 et 100. (fonction **randint**)\n",
    "\n",
    "Ensuite l'utilisateur essaie de **deviner** ce nombre :\n",
    "\n",
    "- Si le nombre saisie est plus grand que celui tiré par l'ordinateur afficher **+** \n",
    "- Si le nombre saisie est plus petit que celui tiré par l'ordinateur afficher **-**\n",
    "- Sinon afficher **gagné** et sortir de la boucle"
   ]
  },
  {
   "cell_type": "markdown",
   "metadata": {},
   "source": [
    "## Exercice suite de Fibonnaci :\n",
    "\n",
    "Ecrire une fonction `fibo(n)` qui retourne le `n` premiers termes de la suite de Fibonnaci contenus dans une liste.\n",
    "\n",
    "On doit donc avoir :\n",
    "- `fibo[0] = []`\n",
    "- `fibo[1] = [0]`\n",
    "- `fibo[2] = [0, 1]`\n",
    "- `fibo[3] = [0, 1, 1]`\n",
    "- etc ..."
   ]
  },
  {
   "cell_type": "markdown",
   "metadata": {},
   "source": [
    "## Fizz-Buzz\n",
    "\n",
    "Ecrire un programme qui imprime les entiers entre 1 et 100, mais qui\n",
    "- remplace les multiples de 3 par \"Fizz\"\n",
    "- les multiples de 5 par \"Buzz\"\n",
    "- les multiples **des** deux par \"FizzBuzz\""
   ]
  },
  {
   "cell_type": "markdown",
   "metadata": {},
   "source": [
    "## Exercices diverses\n",
    "\n",
    "\n",
    "## String sur chaine de caractères (10 min)\n",
    "\n",
    "- Ecrire un programme qui compte le nombre de **voyelle** dans une chaine de caractère, utiliser une boucle **for**\n",
    "\n",
    "**Nb** le mot clé `in` : 'a' in [\"a\", \"v\"]\n",
    "\n"
   ]
  },
  {
   "cell_type": "markdown",
   "metadata": {},
   "source": [
    "## Pierre-Papier-Ciseaux (30 min)\n",
    "\n",
    "Une fonction qui permet de jouer à Pierre-Papier-Ciseaux contre l'ordinateur avec elle prend en entrée une chaîne de caractère :\n",
    "\n",
    "- Si cette chaine n'est pas papier ou ciseaux renvoyer une erreur \n",
    "- Sinon, utiliser randint pour faire piocher l'ordinateur\n",
    "- Imprimer le résultat en respectant les règles pierre papier ciseaux (on peut tout faire avec des if)"
   ]
  },
  {
   "cell_type": "markdown",
   "metadata": {},
   "source": [
    "## Arbre au Pendu (50 min)\n",
    "\n",
    "Ecrire un programme qui permet de jouer au pendu :\n",
    "\n",
    "En entrée un mot saisie par le joueur 1.\n",
    "\n",
    "Ensuite le joueur 2 à 15 coups.\n",
    "\n",
    "A chaque tour afficher le mot avec des **_** pour les lettres manquantes.\n",
    "- Si il saisit une chaine de caractère avec une seule lettre : Regarder si la lettre est présente dans le mot\n",
    "    - Si oui alors remplacer les tirets par les lettres.\n",
    "    - Si non ajouter un coup (boucle while)\n",
    "- Si le joueur saisie une chaine de caractère de plus d'une lettre alors :\n",
    "    - La comparer au mot existant si c'est le bon mot alors sortir du jeux et marqué gagné\n",
    "    - Sinon ajouter un coup\n",
    "\n",
    "**Commencer l'exercice par découper en fonctions**"
   ]
  },
  {
   "cell_type": "markdown",
   "metadata": {},
   "source": [
    "##  Faire une fonction **div_euclid** (30 min)\n",
    "\n",
    "\n",
    "Nous allons enrichir cette **fonciton** au fur et à mesure de l'exercice\n",
    "\n",
    "- Dans la première version :\n",
    "    - Prend un nombre\n",
    "        - si il est divisible par **3** affiche : Ce nombre est divisible par 3\n",
    "        - sinon le reste de la division de ce nombre par 3 est X\n",
    "\n",
    "- deuxième version :\n",
    "    - Ajouter un deuxième **argument** qui permet de laisser le nombre **3** au choix de l'utilisateur \n",
    "\n",
    "A ce stade votre fonction à la forme f(X, Y) ou X et Y sont des **int**\n",
    "\n",
    "\n",
    "- une troisième version :\n",
    "    - Permet de saisir une liste à la place de X\n",
    "    \n",
    "- Une quatrième version :\n",
    "    - permet de saisir une liste à la place de Y\n"
   ]
  },
  {
   "cell_type": "markdown",
   "metadata": {},
   "source": [
    "## Molkki (2 heures)\n",
    "\n",
    "Ecrire un programme qui permet de jouer au **moolki** entre 2 équipes (**très dur**, PE à faire chez soi pour les intéressés)"
   ]
  },
  {
   "cell_type": "code",
   "execution_count": null,
   "metadata": {},
   "outputs": [],
   "source": []
  }
 ],
 "metadata": {
  "kernelspec": {
   "display_name": "Python 3",
   "language": "python",
   "name": "python3"
  },
  "language_info": {
   "codemirror_mode": {
    "name": "ipython",
    "version": 3
   },
   "file_extension": ".py",
   "mimetype": "text/x-python",
   "name": "python",
   "nbconvert_exporter": "python",
   "pygments_lexer": "ipython3",
   "version": "3.7.6"
  }
 },
 "nbformat": 4,
 "nbformat_minor": 4
}
