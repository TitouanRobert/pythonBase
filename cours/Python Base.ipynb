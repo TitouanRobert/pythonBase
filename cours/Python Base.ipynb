{
 "cells": [
  {
   "cell_type": "markdown",
   "metadata": {},
   "source": [
    "# Table des matières\n",
    "1. [Introduction](#introduction)  \n",
    "    1. [Fonctions de base](#fonctions_base)\n",
    "    2. [Variables](#variables)\n",
    "    3. [Commentaires](#commentaires)\n",
    "    4. [Import function](#imptf)\n",
    "2. [Types](#types)\n",
    "    1. [Numbers](#numbers)\n",
    "    2. [Float](#float)\n",
    "    3. [Booleans](#booleans)\n",
    "    4. [Strings](#strings)\n",
    "    5. [Dates](#dates)\n",
    "    6. [None](#none)\n",
    "3. [Functions](#functions)\n",
    "    1. [Creation](#def)\n",
    "    2. [Unpack arguments](#unpack)\n",
    "    3. [lambdas functions](#lambda)  \n",
    "4. [Data structure](#data_structure)\n",
    "    1. [Lists](#lists)\n",
    "    2. [Tuples](#tuples)\n",
    "    3. [Dictionnaries](#dictionnaries)\n",
    "    4. [Sets](#sets)\n",
    "5. [Flow Control](#flow_control)\n",
    "    1. [if else elif](#if)\n",
    "    2. [loops](#loops)\n",
    "    3. [List Comprehension](#list_comp)\n",
    "    4. [continue break](#break)\n",
    "    5. [Errors](#errors)"
   ]
  },
  {
   "cell_type": "markdown",
   "metadata": {},
   "source": [
    "<a name=\"introduction\"></a>\n",
    "\n",
    "<img src=\"intro.png\">"
   ]
  },
  {
   "cell_type": "markdown",
   "metadata": {},
   "source": [
    "Pourquoi utiliser Python?\n",
    "\n",
    "- Langage très populaire, avec une communauté de développeurs très active.\n",
    "- Langage open source (vs solution propriétaires SAS, SPSS...)\n",
    "- Possède de nombreuses librairies utiles pour l'analyse de données (pandas, scikit-learn, numpy)\n",
    "- Facile à apprendre vs langages de plus bas niveau.\n",
    "\n",
    "\n",
    "Que permet de faire python ? \n",
    "\n",
    "C'est un langage **multi-purpose**, il est utilisé dans de nombreux domaines:\n",
    "- Développement Web (Django, Flask) => utilisé par Dropbox, Quora, Reddit....\n",
    "- Data Science => scikit, TensorFlow\n",
    "- Big Data => pyspark\n",
    "- scripting\n",
    "\n",
    "Particularité de python : \n",
    "\n",
    "- Langage interprété\n",
    "- Typé dynamiquement : pas besoin de préciser le type lorsque l'on définit des variables\n",
    "- Scripts vs Orienté Objet\n",
    "\n",
    "Qu'est ce que la programmation Orientée Object ? \n",
    "\n",
    "Il s'agit de créer des objets informatiques qui possèdent des **champs** et des **fonctions**\n",
    "\n",
    "Utilité d'utiliser la programmation OO ?\n",
    "\n",
    "- Permet de créer des objets cohérents et réutilisables\n",
    "- Permet de structurer son code\n",
    "- Rend l'utilisation d'un programme plus flexible et modulaire\n",
    "\n",
    "=> Exemple de classe à la fin de cette partie.\n",
    "\n",
    "\n",
    "Comment utiliser Python ? \n",
    "\n",
    "- Suite de commandes dans un interpréteur (accessible dans le terminal, test en ligne: https://repl.it/languages/python3)\n",
    "- Création de fichier .py puis exécution dans un terminal avec la commande `python fichier.py`\n",
    "- Utilisation d'un IDE (Integrated Development Environment)) => Spyder dans Anaconda\n",
    "- Utilisation d'un notebook => Jupyter\n",
    "\n",
    "A quoi sert un notebook ? \n",
    "\n",
    "- Permet de mélanger execution de code et explication (Markdown). Très utile et agréable pour faire des présentations et des analyses exploratoires. \n",
    "- Pas l'idéal pour l'industrialisation de code.\n",
    "- Beaucoup de raccourci claviers intéressants.\n",
    "\n",
    "Il existe d'autres IDE pour python, permettant de travailler en mode notebook ou pas : \n",
    "- Rodeo : équivalent de RStudio -> pas de mode notebook\n",
    "- Atom : Editeur pluri langage développé par Github, peut s'utiliser comme un notebook avec Hydrogen\n",
    "- Sublim Text : Editeur de texte pouvant être utilisé comme un IDE si bien paramêtré -> pas de mode notebook\n",
    "- Pycharm : IDE de développement pour Python, pas en mode notebook. Utilisé majoritairement pour de la prod.\n",
    "\n",
    "Ce qu'on va voir dans cette partie:\n",
    "\n",
    "- Les fonctions de base\n",
    "- Les types\n",
    "- le workflow: boucles et conditions\n",
    "- les fonctions\n",
    "- les import"
   ]
  },
  {
   "cell_type": "markdown",
   "metadata": {},
   "source": [
    "\n",
    "<p style=\"float: left;font-size:25px;\"><img src=\"GEAR.png\" alt=\"\"  style = \"vertical-align: middle;\"/> Variables<a name=\"variables\"></a></p>\n"
   ]
  },
  {
   "cell_type": "code",
   "execution_count": null,
   "metadata": {},
   "outputs": [],
   "source": [
    "# Affichage d'un variable\n",
    "print(\"Hello World!\")"
   ]
  },
  {
   "cell_type": "code",
   "execution_count": 2,
   "metadata": {},
   "outputs": [
    {
     "data": {
      "text/plain": [
       "str"
      ]
     },
     "execution_count": 2,
     "metadata": {},
     "output_type": "execute_result"
    }
   ],
   "source": [
    "# Type de la variable \n",
    "type(\"Hello World!\")"
   ]
  },
  {
   "cell_type": "code",
   "execution_count": 4,
   "metadata": {},
   "outputs": [
    {
     "data": {
      "text/plain": [
       "4"
      ]
     },
     "execution_count": 4,
     "metadata": {},
     "output_type": "execute_result"
    }
   ],
   "source": [
    "# Evaluation d'une expression\n",
    "eval(\"2+2\")"
   ]
  },
  {
   "cell_type": "code",
   "execution_count": 5,
   "metadata": {},
   "outputs": [
    {
     "name": "stdout",
     "output_type": "stream",
     "text": [
      "Hello World!\n"
     ]
    }
   ],
   "source": [
    "y = \"Hello World!\"\n",
    "print(y)"
   ]
  },
  {
   "cell_type": "code",
   "execution_count": 8,
   "metadata": {},
   "outputs": [
    {
     "data": {
      "text/plain": [
       "'Hello World!'"
      ]
     },
     "execution_count": 8,
     "metadata": {},
     "output_type": "execute_result"
    }
   ],
   "source": [
    "y"
   ]
  },
  {
   "cell_type": "markdown",
   "metadata": {},
   "source": [
    "<p style=\"float: left;font-size:25px;\"><img src=\"GEAR.png\" alt=\"\"  style = \"vertical-align: middle;\"/> Commentaires <a name=\"commentaires\"></a></p>\n"
   ]
  },
  {
   "cell_type": "code",
   "execution_count": 4,
   "metadata": {},
   "outputs": [],
   "source": [
    "# Ceci est un commentaire"
   ]
  },
  {
   "cell_type": "markdown",
   "metadata": {},
   "source": [
    "<div class=\"alert alert-block alert-success\">\n",
    "    <p>Dans Python un texte est mis en commentaire (et ne sera donc pas executé à la lecture) s'il est précédé de <code>#</code> </p>\n",
    "    <p>Le raccourci pour commenter toute une sélection d'un coup dans Jupyter lab est <code>ctrl</code> + <code>/</code> </p>\n",
    "</div>"
   ]
  },
  {
   "cell_type": "markdown",
   "metadata": {},
   "source": [
    "<p style=\"float: left;font-size:25px;\"><img src=\"GEAR.png\" alt=\"\"  style = \"vertical-align: middle;\"/> Import function <a name=\"imptf\"></a></p>\n",
    "\n"
   ]
  },
  {
   "cell_type": "code",
   "execution_count": 2,
   "metadata": {},
   "outputs": [
    {
     "data": {
      "text/plain": [
       "2"
      ]
     },
     "execution_count": 2,
     "metadata": {},
     "output_type": "execute_result"
    }
   ],
   "source": [
    "# Entier aléatoire entre 0 et 10\n",
    "import random\n",
    "random.seed(1)\n",
    "random.randint(0,10)"
   ]
  },
  {
   "cell_type": "code",
   "execution_count": 3,
   "metadata": {},
   "outputs": [
    {
     "data": {
      "text/plain": [
       "\u001b[1;31mSignature:\u001b[0m \u001b[0mtoto\u001b[0m\u001b[1;33m(\u001b[0m\u001b[0ma\u001b[0m\u001b[1;33m,\u001b[0m \u001b[0mb\u001b[0m\u001b[1;33m)\u001b[0m\u001b[1;33m\u001b[0m\u001b[1;33m\u001b[0m\u001b[0m\n",
       "\u001b[1;31mDocstring:\u001b[0m\n",
       "Return random integer in range [a, b], including both end points.\n",
       "        \n",
       "\u001b[1;31mFile:\u001b[0m      c:\\users\\titouanrobert\\anaconda3\\lib\\random.py\n",
       "\u001b[1;31mType:\u001b[0m      method\n"
      ]
     },
     "metadata": {},
     "output_type": "display_data"
    }
   ],
   "source": [
    "from random import randint as toto\n",
    "toto(2, 7)\n",
    "?toto\n"
   ]
  },
  {
   "cell_type": "markdown",
   "metadata": {},
   "source": [
    "[![](YT.PNG)](../TP/TP-python-base-exo.ipynb#imptf) (click on image!)"
   ]
  },
  {
   "cell_type": "markdown",
   "metadata": {},
   "source": [
    "<a name=\"types\"></a>\n",
    "\n",
    "<img src=\"TYPES.png\">"
   ]
  },
  {
   "cell_type": "markdown",
   "metadata": {},
   "source": [
    "<p style=\"float: left;font-size:25px;\"><img src=\"GEAR.png\" alt=\"\"  style = \"vertical-align: middle;\"/> Numbers <a name=\"numbers\"></a></p>"
   ]
  },
  {
   "cell_type": "markdown",
   "metadata": {},
   "source": [
    "#### integer"
   ]
  },
  {
   "cell_type": "code",
   "execution_count": 10,
   "metadata": {},
   "outputs": [
    {
     "name": "stdout",
     "output_type": "stream",
     "text": [
      "2 est de classe int\n",
      "2+2 4\n",
      "12\n",
      "9\n",
      "9\n",
      "10\n"
     ]
    }
   ],
   "source": [
    "# Les entiers \n",
    "print(int(2),\"est de classe\",type(int(2)).__name__)\n",
    "print(\"2+2\",eval(\"2+2\"))\n",
    "print(3*4)\n",
    "print(3**2)\n",
    "print(pow(3,2))\n",
    "print(25-5*3)"
   ]
  },
  {
   "cell_type": "markdown",
   "metadata": {},
   "source": [
    "[![](YT.PNG)](../TP/TP-python-base-exo.ipynb#pyb)"
   ]
  },
  {
   "cell_type": "markdown",
   "metadata": {},
   "source": [
    "<p style=\"float: left;font-size:25px;\"><img src=\"GEAR.png\" alt=\"\"  style = \"vertical-align: middle;\"/> Float <a name=\"float\"></a></p>"
   ]
  },
  {
   "cell_type": "code",
   "execution_count": 18,
   "metadata": {},
   "outputs": [
    {
     "name": "stdout",
     "output_type": "stream",
     "text": [
      "2.0 est de classe float\n",
      "6.333333333333333\n",
      "6.333333333333333\n",
      "6\n",
      "1\n"
     ]
    }
   ],
   "source": [
    "print(float(2),\"est de classe\",type(float(2)).__name__)\n",
    "\n",
    "# Les divisions renvoient toujours des float\n",
    "print(19/3)\n",
    "print(19./3)\n",
    "\n",
    "# Division euclidienne\n",
    "print(19//3) # quotient de la division euclidienne\n",
    "print(19%3) # reste de la division euclidienne"
   ]
  },
  {
   "cell_type": "markdown",
   "metadata": {},
   "source": [
    "Conversion d'un entier en float et inversement"
   ]
  },
  {
   "cell_type": "code",
   "execution_count": 38,
   "metadata": {},
   "outputs": [
    {
     "name": "stdout",
     "output_type": "stream",
     "text": [
      "<class 'int'>\n",
      "<class 'float'>\n"
     ]
    }
   ],
   "source": [
    "a = 2\n",
    "print(type(a))\n",
    "print(type(float(a)))"
   ]
  },
  {
   "cell_type": "code",
   "execution_count": 19,
   "metadata": {},
   "outputs": [
    {
     "name": "stdout",
     "output_type": "stream",
     "text": [
      "3\n"
     ]
    }
   ],
   "source": [
    "b = 3.7\n",
    "print(int(b))"
   ]
  },
  {
   "cell_type": "markdown",
   "metadata": {},
   "source": [
    "<p style=\"float: left;font-size:25px;\"><img src=\"GEAR.png\" alt=\"\"  style = \"vertical-align: middle;\"/> Booleans <a name=\"booleans\"></a></p>"
   ]
  },
  {
   "cell_type": "markdown",
   "metadata": {},
   "source": [
    "<div class=\"alert alert-block alert-info\">\n",
    "    <p> <code>True</code> et <code>False</code> sont des keywords de Python correspondant aux 2 valeurs possibles pour un booléan. </p>\n",
    "</div>"
   ]
  },
  {
   "cell_type": "code",
   "execution_count": 24,
   "metadata": {},
   "outputs": [
    {
     "name": "stdout",
     "output_type": "stream",
     "text": [
      "True\n",
      "<class 'bool'>\n"
     ]
    }
   ],
   "source": [
    "print(True)\n",
    "print(type(False))"
   ]
  },
  {
   "cell_type": "markdown",
   "metadata": {},
   "source": [
    "##### Opérateurs booléans et et ou"
   ]
  },
  {
   "cell_type": "code",
   "execution_count": 1,
   "metadata": {},
   "outputs": [
    {
     "name": "stdout",
     "output_type": "stream",
     "text": [
      "False\n",
      "False\n",
      "True\n",
      "True\n"
     ]
    }
   ],
   "source": [
    "print(True and False)\n",
    "print(True & False)\n",
    "print(True or False)\n",
    "print(True | False)"
   ]
  },
  {
   "cell_type": "markdown",
   "metadata": {},
   "source": [
    "\n",
    "\n",
    "<div class=\"alert alert-block alert-info\">\n",
    "    <p> <code>&</code> et <code>|</code> sont des opérateurs binaires, ils s'appliquent sur les variables bit par bit (bitwise).</p>\n",
    "</div>"
   ]
  },
  {
   "cell_type": "code",
   "execution_count": 44,
   "metadata": {
    "scrolled": true
   },
   "outputs": [
    {
     "name": "stdout",
     "output_type": "stream",
     "text": [
      "0b1011 0b1\n",
      "96\n",
      "109\n"
     ]
    }
   ],
   "source": [
    "print(bin(11),bin(1))\n",
    "print(100&105)\n",
    "print(100|105)"
   ]
  },
  {
   "cell_type": "code",
   "execution_count": 25,
   "metadata": {},
   "outputs": [
    {
     "name": "stdout",
     "output_type": "stream",
     "text": [
      "False\n",
      "False\n",
      "False\n",
      "True\n"
     ]
    }
   ],
   "source": [
    "# Négation \n",
    "print(not(True))\n",
    "print(not(1))\n",
    "print(not(2))\n",
    "print(not(0))"
   ]
  },
  {
   "cell_type": "markdown",
   "metadata": {},
   "source": [
    "#### Transformation en booléan"
   ]
  },
  {
   "cell_type": "code",
   "execution_count": 26,
   "metadata": {},
   "outputs": [
    {
     "name": "stdout",
     "output_type": "stream",
     "text": [
      "True\n",
      "True\n",
      "True\n",
      "False\n",
      "False\n"
     ]
    }
   ],
   "source": [
    "print(bool(2))\n",
    "print(bool(-1))\n",
    "print(bool(\"a\"))\n",
    "print(bool(0))\n",
    "print(bool(None))"
   ]
  },
  {
   "cell_type": "markdown",
   "metadata": {},
   "source": [
    "[![](YT.PNG)](../TP/TP-python-base-exo.ipynb#etou)"
   ]
  },
  {
   "cell_type": "markdown",
   "metadata": {},
   "source": [
    "#### Un peu d'arythmétique"
   ]
  },
  {
   "cell_type": "code",
   "execution_count": null,
   "metadata": {},
   "outputs": [],
   "source": [
    "x = 2\n",
    "y = 4\n",
    "print(x + y)\n",
    "print(x - y)\n",
    "print(x * y)\n",
    "print(x / y)\n",
    "print(x ** y)"
   ]
  },
  {
   "cell_type": "code",
   "execution_count": null,
   "metadata": {},
   "outputs": [],
   "source": [
    "print(x <= y)\n",
    "print(x >= y)\n",
    "print(x == y)\n",
    "print(x != y)"
   ]
  },
  {
   "cell_type": "markdown",
   "metadata": {},
   "source": [
    "<p style=\"float: left;font-size:25px;\"><img src=\"GEAR.png\" alt=\"\"  style = \"vertical-align: middle;\"/> Strings <a name=\"strings\"></a></p>"
   ]
  },
  {
   "cell_type": "code",
   "execution_count": 27,
   "metadata": {},
   "outputs": [
    {
     "name": "stdout",
     "output_type": "stream",
     "text": [
      "Mon texte\n",
      "Mon texte Ajout text\n"
     ]
    }
   ],
   "source": [
    "text = \"Mon texte\"\n",
    "print(text)\n",
    "\n",
    "#Concaténer\n",
    "print(text + \" Ajout text\")"
   ]
  },
  {
   "cell_type": "markdown",
   "metadata": {},
   "source": [
    "#### La fonction .format pour l'inclusion de strings"
   ]
  },
  {
   "cell_type": "code",
   "execution_count": 28,
   "metadata": {},
   "outputs": [
    {
     "name": "stdout",
     "output_type": "stream",
     "text": [
      "Hello John, how are you ?\n",
      "Hello John Smith, how are you ?\n",
      "I've got 2.200000 bitcoins and 3 dogecoins\n",
      "I am 12 years old\n"
     ]
    }
   ],
   "source": [
    "string1 = \"Hello {}, how are you ?\".format(\"John\")\n",
    "string2 = \"Hello {1} {0}, how are you ?\".format(\"Smith\",\"John\")\n",
    "string3 = \"I've got {:f} bitcoins and {:d} dogecoins\".format(2.2,3)\n",
    "string4 = \"I am {year} years old\".format(year=12)\n",
    "\n",
    "\n",
    "print(string1)\n",
    "print(string2)\n",
    "print(string3)\n",
    "print(string4)"
   ]
  },
  {
   "cell_type": "markdown",
   "metadata": {},
   "source": [
    "\n",
    "<div class=\"alert alert-block alert-info\">\n",
    "<p> \n",
    "    Les strings peuvent se concaténer avec l'opérateur <code>+</code></p>\n",
    "<p>\n",
    "    Dans Python les strings sont en fait une liste, dans une liste en python il est possible d'aller chercher les éléments via leur index. <b>Attention</b> l'indexation commence à 0.\n",
    "</p>\n",
    "</div>\n"
   ]
  },
  {
   "cell_type": "code",
   "execution_count": 49,
   "metadata": {
    "scrolled": true
   },
   "outputs": [
    {
     "name": "stdout",
     "output_type": "stream",
     "text": [
      "H\n"
     ]
    }
   ],
   "source": [
    "string1 = \"Hello World!\"\n",
    "print(string1[0])"
   ]
  },
  {
   "cell_type": "markdown",
   "metadata": {},
   "source": [
    "Il est possible d'intéragir avec l'utilisateur pour lui demander de rentrer une commande -> fonction **input**"
   ]
  },
  {
   "cell_type": "code",
   "execution_count": 29,
   "metadata": {
    "scrolled": true
   },
   "outputs": [
    {
     "name": "stdin",
     "output_type": "stream",
     "text": [
      "Saisissez une chaine de caracteres : \n",
      " fojjf\n"
     ]
    }
   ],
   "source": [
    "mon_input = input(\"Saisissez une chaine de caracteres : \\n\")"
   ]
  },
  {
   "cell_type": "code",
   "execution_count": 30,
   "metadata": {},
   "outputs": [
    {
     "name": "stdout",
     "output_type": "stream",
     "text": [
      "fojjf\n"
     ]
    }
   ],
   "source": [
    "print(mon_input)"
   ]
  },
  {
   "cell_type": "markdown",
   "metadata": {},
   "source": [
    "[![](YT.PNG)](../TP/TP-python-base-exo.ipynb#str)"
   ]
  },
  {
   "cell_type": "markdown",
   "metadata": {},
   "source": [
    "<p style=\"float: left;font-size:25px;\"><img src=\"GEAR.png\" alt=\"\"  style = \"vertical-align: middle;\"/> Dates <a name=\"dates\"></a></p>"
   ]
  },
  {
   "cell_type": "markdown",
   "metadata": {},
   "source": [
    "Les dates ne sont pas vraiment un type par défaut, elles sont généralement utilisées comme des strings. On peut néanmoins profiter de librairies existantes pour les manipuler. https://docs.python.org/3/library/datetime.html"
   ]
  },
  {
   "cell_type": "code",
   "execution_count": 31,
   "metadata": {
    "scrolled": true
   },
   "outputs": [
    {
     "name": "stdout",
     "output_type": "stream",
     "text": [
      "2012-09-21 00:00:00\n",
      "2012\n",
      "102 days, 0:00:00\n",
      "102\n"
     ]
    }
   ],
   "source": [
    "import datetime\n",
    "\n",
    "date_string1 = \"2012/09/21\" # => String\n",
    "date_string2 = \"2013/01/01\"\n",
    "\n",
    "# Convert to date objects\n",
    "date1 = datetime.datetime.strptime(date_string1, \"%Y/%m/%d\") # => datetime.datetime\n",
    "date2 = datetime.datetime.strptime(date_string2, \"%Y/%m/%d\") # => datetime.datetime\n",
    "\n",
    "\n",
    "print(date1)\n",
    "\n",
    "# Getting attributes of date\n",
    "year1 = date1.year # => int\n",
    "\n",
    "print(year1)\n",
    "\n",
    "# Operations between dates\n",
    "duree = date2 - date1 # => datetime.timedelta\n",
    "\n",
    "print(duree)\n",
    "print(duree.days)"
   ]
  },
  {
   "cell_type": "markdown",
   "metadata": {},
   "source": [
    "[![](YT.PNG)](../TP/TP-python-base-exo.ipynb#dt)"
   ]
  },
  {
   "cell_type": "markdown",
   "metadata": {},
   "source": [
    "<p style=\"float: left;font-size:25px;\"><img src=\"GEAR.png\" alt=\"\"  style = \"vertical-align: middle;\"/> None <a name=\"none\"></a></p>"
   ]
  },
  {
   "cell_type": "code",
   "execution_count": 32,
   "metadata": {},
   "outputs": [
    {
     "data": {
      "text/plain": [
       "NoneType"
      ]
     },
     "execution_count": 32,
     "metadata": {},
     "output_type": "execute_result"
    }
   ],
   "source": [
    "null_value = None\n",
    "type(null_value)"
   ]
  },
  {
   "cell_type": "markdown",
   "metadata": {},
   "source": [
    "<a name=\"functions\"></a>\n",
    "\n",
    "<img src=\"FUNCTION.png\">\n"
   ]
  },
  {
   "cell_type": "markdown",
   "metadata": {},
   "source": [
    "<p style=\"float: left;font-size:25px;\"><img src=\"GEAR.png\" alt=\"\"  style = \"vertical-align: middle;\"/> Création <a name=\"def\"></a></p>"
   ]
  },
  {
   "cell_type": "code",
   "execution_count": 36,
   "metadata": {},
   "outputs": [
    {
     "name": "stdout",
     "output_type": "stream",
     "text": [
      "Hello 2\n",
      "Hello Word\n",
      "Hello \n",
      "Help on function hello_function in module __main__:\n",
      "\n",
      "hello_function()\n",
      "    Function documentation\n",
      "\n",
      "None\n",
      "No text provided\n",
      "Salut\n"
     ]
    }
   ],
   "source": [
    "def hello_function():\n",
    "    \"\"\"Function documentation\"\"\"\n",
    "    print('Hello Word')\n",
    "    print('Hello ')\n",
    "    \n",
    "print('Hello 2')\n",
    "hello_function()\n",
    "print(help(hello_function))\n",
    "\n",
    "\n",
    "## Avec des valeurs par defaut\n",
    "def write(text = \"No text provided\"):\n",
    "    print(text)\n",
    "write()\n",
    "write(\"Salut\")\n"
   ]
  },
  {
   "cell_type": "markdown",
   "metadata": {},
   "source": [
    "<div class=\"alert alert-block alert-warning\">\n",
    "    <p> Attention à l'indentation, elle structure le code, utiliser la touche tab ou 4 fois le caractère espace.</p>\n",
    "</div>\n",
    "\n",
    "\n"
   ]
  },
  {
   "cell_type": "code",
   "execution_count": 38,
   "metadata": {},
   "outputs": [
    {
     "name": "stdout",
     "output_type": "stream",
     "text": [
      "11\n"
     ]
    }
   ],
   "source": [
    "## Avec des arguments\n",
    "def add(x,y):\n",
    "    return x + y\n",
    "\n",
    "toto = add(5, 6)\n",
    "print(toto)"
   ]
  },
  {
   "cell_type": "code",
   "execution_count": 39,
   "metadata": {},
   "outputs": [
    {
     "name": "stdout",
     "output_type": "stream",
     "text": [
      "11\n",
      "30\n"
     ]
    }
   ],
   "source": [
    "def add1(x,y):\n",
    "    x1 = x + y\n",
    "    return x1\n",
    "\n",
    "def add2(x,y):\n",
    "    x2 = x * y\n",
    "    return x2\n",
    "\n",
    "a = add1(5,6)\n",
    "b = add2(5,6)\n",
    "print(a)\n",
    "print(b)"
   ]
  },
  {
   "cell_type": "code",
   "execution_count": 40,
   "metadata": {},
   "outputs": [
    {
     "name": "stdout",
     "output_type": "stream",
     "text": [
      "11\n",
      "30\n"
     ]
    }
   ],
   "source": [
    "#Return multiples\n",
    "def add(x,y):\n",
    "    x1 = x + y\n",
    "    x2 = x * y\n",
    "    return x1, x2\n",
    "\n",
    "a, b = add(5,6)\n",
    "print(a)\n",
    "print(b)"
   ]
  },
  {
   "cell_type": "code",
   "execution_count": 50,
   "metadata": {},
   "outputs": [
    {
     "name": "stdout",
     "output_type": "stream",
     "text": [
      "1\n",
      "7\n",
      "1\n"
     ]
    }
   ],
   "source": [
    "x = 1\n",
    "\n",
    "def add1(x1,y1):\n",
    "    \n",
    "    print(x)\n",
    "\n",
    "    \n",
    "    x1 = x + y1\n",
    "    return x1\n",
    "\n",
    "a = add1(5,6)\n",
    "print(a)\n",
    "print(x)\n"
   ]
  },
  {
   "cell_type": "markdown",
   "metadata": {},
   "source": [
    "<div class=\"alert alert-block alert-info\">\n",
    "    <p> Fonction récursive: Fonction qui s'appelle elle-même. </p>\n",
    "</div>\n",
    "\n",
    "<div class=\"alert alert-block alert-warning\">\n",
    "   <p>Attention: Les arguments avec des valeurs par défaut doivent toujours se situer à droite de la liste d'arguments.</p>\n",
    "<p>Important, il faut une condition d'arrêt pour ne pas entrer dans une boucle infinie</p>\n",
    "</div>\n"
   ]
  },
  {
   "cell_type": "code",
   "execution_count": 54,
   "metadata": {},
   "outputs": [
    {
     "data": {
      "text/plain": [
       "120"
      ]
     },
     "execution_count": 54,
     "metadata": {},
     "output_type": "execute_result"
    }
   ],
   "source": [
    "def factorielle(n):\n",
    "    if n == 1:\n",
    "        return 1\n",
    "    else:\n",
    "        return  n * factorielle(n - 1)\n",
    "    \n",
    "factorielle(5)"
   ]
  },
  {
   "cell_type": "markdown",
   "metadata": {},
   "source": [
    "[![](YT.PNG)](../TP/TP-python-base-exo.ipynb#deff)"
   ]
  },
  {
   "cell_type": "markdown",
   "metadata": {},
   "source": [
    "<p style=\"float: left;font-size:25px;\"><img src=\"GEAR.png\" alt=\"\"  style = \"vertical-align: middle;\"/>  Unpack arguments <a name=\"unpack\"></a></p>"
   ]
  },
  {
   "cell_type": "markdown",
   "metadata": {},
   "source": [
    "Il est possible de spécifier une liste d'arguments infini pour une fonction.  \n",
    "Pour ce faire, on utilise l'opérateur args, qui va en fait empaqueter les arguments de la fonction dans une liste."
   ]
  },
  {
   "cell_type": "code",
   "execution_count": 55,
   "metadata": {},
   "outputs": [
    {
     "name": "stdout",
     "output_type": "stream",
     "text": [
      "allo Charlie\n",
      "allo Charlie\n",
      "ici Bravo\n"
     ]
    }
   ],
   "source": [
    "def args_inf(*args):\n",
    "    [print(x) for x in args]\n",
    "\n",
    "args_inf(\"allo Charlie\")\n",
    "args_inf(\"allo Charlie\",\"ici Bravo\")"
   ]
  },
  {
   "cell_type": "markdown",
   "metadata": {},
   "source": [
    "<p style=\"float: left;font-size:25px;\"><img src=\"GEAR.png\" alt=\"\"  style = \"vertical-align: middle;\"/>  Lambda functions <a name=\"lambda\"></a></p>"
   ]
  },
  {
   "cell_type": "code",
   "execution_count": 56,
   "metadata": {},
   "outputs": [
    {
     "data": {
      "text/plain": [
       "9"
      ]
     },
     "execution_count": 56,
     "metadata": {},
     "output_type": "execute_result"
    }
   ],
   "source": [
    "g = lambda x: x**2\n",
    "g(3)"
   ]
  },
  {
   "cell_type": "markdown",
   "metadata": {},
   "source": [
    "<a name=\"data_structure\"></a>\n",
    "\n",
    "<img src=\"DATA STRUCTURE.png\">\n"
   ]
  },
  {
   "cell_type": "markdown",
   "metadata": {},
   "source": [
    "<p style=\"float: left;font-size:25px;\"><img src=\"GEAR.png\" alt=\"\"  style = \"vertical-align: middle;\"/>  Lists <a name=\"lists\"></a></p>"
   ]
  },
  {
   "cell_type": "code",
   "execution_count": null,
   "metadata": {},
   "outputs": [],
   "source": [
    "a_empty = []\n",
    "a = [1,2,3]\n",
    "a = list([1,2,3])"
   ]
  },
  {
   "cell_type": "markdown",
   "metadata": {},
   "source": [
    "Listes peuvent contenir plusieurs types. "
   ]
  },
  {
   "cell_type": "code",
   "execution_count": 63,
   "metadata": {},
   "outputs": [],
   "source": [
    "multi = [1,\"Salut\",None, 3.2]"
   ]
  },
  {
   "cell_type": "markdown",
   "metadata": {},
   "source": [
    "Ajouter un élément à une liste: Insère en dernier élément la variable passée en argument. Modifie la variable mais ne retourne rien.\n"
   ]
  },
  {
   "cell_type": "code",
   "execution_count": 64,
   "metadata": {},
   "outputs": [
    {
     "name": "stdout",
     "output_type": "stream",
     "text": [
      "[1, 'Salut', None, 3.2, 32]\n"
     ]
    }
   ],
   "source": [
    "multi.append(32)\n",
    "print(multi)"
   ]
  },
  {
   "cell_type": "markdown",
   "metadata": {},
   "source": [
    "Etendre une liste. Doit passer en argument une autre liste."
   ]
  },
  {
   "cell_type": "code",
   "execution_count": 65,
   "metadata": {
    "scrolled": true
   },
   "outputs": [
    {
     "name": "stdout",
     "output_type": "stream",
     "text": [
      "[1, 'Salut', None, 3.2, 32, 100, 102]\n"
     ]
    }
   ],
   "source": [
    "multi.extend([100,102])\n",
    "print(multi)"
   ]
  },
  {
   "cell_type": "code",
   "execution_count": 66,
   "metadata": {},
   "outputs": [
    {
     "name": "stdout",
     "output_type": "stream",
     "text": [
      "[1, 'Salut', None, 3.2, 32, 100, 102, 2]\n",
      "[1, 'Salut', None, 3.2, 32, 100, 102]\n",
      "[1, 'Salut', None, 3.2, 32, 100, 102, 2]\n"
     ]
    }
   ],
   "source": [
    "print(multi + [2])\n",
    "print(multi)\n",
    "multi = multi + [2]\n",
    "print(multi)"
   ]
  },
  {
   "cell_type": "markdown",
   "metadata": {},
   "source": [
    "<div class=\"alert alert-block alert-warning\">\n",
    "    <p>Sélection d'éléments dans la liste. <b>Attention</b>, la numérotation commence à 0.</p>\n",
    "</div>\n",
    "\n"
   ]
  },
  {
   "cell_type": "code",
   "execution_count": 67,
   "metadata": {},
   "outputs": [
    {
     "name": "stdout",
     "output_type": "stream",
     "text": [
      "1\n",
      "2\n",
      "['Salut', None]\n",
      "[None, 3.2, 32, 100, 102, 2]\n",
      "102\n",
      "8\n"
     ]
    },
    {
     "data": {
      "text/plain": [
       "102"
      ]
     },
     "execution_count": 67,
     "metadata": {},
     "output_type": "execute_result"
    }
   ],
   "source": [
    "first = multi[0] # => 1\n",
    "last = multi[-1] # => 102\n",
    "sli = multi[1:3] # => ['Salut', None]\n",
    "sli2 = multi[2:] # => [None, 3.2, 32, 100, 102]\n",
    "\n",
    "print(first)\n",
    "print(last)\n",
    "print(sli)\n",
    "print(sli2)\n",
    "print( multi[-2])\n",
    "print(len(multi))\n",
    "\n",
    "toto = len(multi)\n",
    "multi[(toto - 2)]\n",
    "\n"
   ]
  },
  {
   "cell_type": "code",
   "execution_count": 68,
   "metadata": {},
   "outputs": [
    {
     "data": {
      "text/plain": [
       "['Salut', None, 3.2]"
      ]
     },
     "execution_count": 68,
     "metadata": {},
     "output_type": "execute_result"
    }
   ],
   "source": [
    "multi[1:4]"
   ]
  },
  {
   "cell_type": "markdown",
   "metadata": {},
   "source": [
    "Créer une séquence de nombre"
   ]
  },
  {
   "cell_type": "code",
   "execution_count": null,
   "metadata": {},
   "outputs": [],
   "source": [
    "ran = range(10) # => [0, 1, 2, 3, 4, 5, 6, 7, 8, 9]\n",
    "ran2 = range(2,10) # => [2, 3, 4, 5, 6, 7, 8, 9]\n",
    "ran3 = range(2,10,2) # => [2, 4, 6, 8]\n",
    "\n",
    "print(list(ran))\n",
    "print(list(ran2))\n",
    "print(list(ran3))"
   ]
  },
  {
   "cell_type": "markdown",
   "metadata": {},
   "source": [
    "Supprimer un élément de la liste : la foncion **del**"
   ]
  },
  {
   "cell_type": "code",
   "execution_count": 74,
   "metadata": {},
   "outputs": [
    {
     "name": "stdout",
     "output_type": "stream",
     "text": [
      "[3, 4, 6, 4]\n"
     ]
    }
   ],
   "source": [
    "a = [1, 3, 4, 6, 4]\n",
    "del(a[0])\n",
    "print(a)"
   ]
  },
  {
   "cell_type": "markdown",
   "metadata": {},
   "source": [
    "Inverser la liste : la fonciton **reverse**"
   ]
  },
  {
   "cell_type": "code",
   "execution_count": 75,
   "metadata": {},
   "outputs": [
    {
     "name": "stdout",
     "output_type": "stream",
     "text": [
      "[4, 6, 4, 3]\n"
     ]
    }
   ],
   "source": [
    "a.reverse()\n",
    "print(a)"
   ]
  },
  {
   "cell_type": "code",
   "execution_count": null,
   "metadata": {},
   "outputs": [],
   "source": [
    "a."
   ]
  },
  {
   "cell_type": "markdown",
   "metadata": {},
   "source": [
    "Trouver l'indice d'une valeur : la fonction **index**"
   ]
  },
  {
   "cell_type": "code",
   "execution_count": 76,
   "metadata": {},
   "outputs": [
    {
     "data": {
      "text/plain": [
       "0"
      ]
     },
     "execution_count": 76,
     "metadata": {},
     "output_type": "execute_result"
    }
   ],
   "source": [
    "a.index(4)"
   ]
  },
  {
   "cell_type": "markdown",
   "metadata": {},
   "source": [
    "[![](YT.PNG)](../TP/TP-python-base-exo.ipynb#list)"
   ]
  },
  {
   "cell_type": "markdown",
   "metadata": {},
   "source": [
    "<p style=\"float: left;font-size:25px;\"><img src=\"GEAR.png\" alt=\"\"  style = \"vertical-align: middle;\"/> Tuples <a name=\"tuples\"></a></p>"
   ]
  },
  {
   "cell_type": "markdown",
   "metadata": {},
   "source": [
    "Les tuples sont des listes impossibles à modifier.  \n",
    "Ils fonctionnent comme les listes pour ce qui est de la visualisation, mais elles ne peuvent être étendues ou modifiées.  \n",
    "Ils sont rarement utilisés en data science."
   ]
  },
  {
   "cell_type": "code",
   "execution_count": 77,
   "metadata": {},
   "outputs": [
    {
     "name": "stdout",
     "output_type": "stream",
     "text": [
      "(3, 5, 4)\n",
      "5\n"
     ]
    }
   ],
   "source": [
    "t = (3,5,4)\n",
    "print(t)\n",
    "print(t[1])"
   ]
  },
  {
   "cell_type": "code",
   "execution_count": 78,
   "metadata": {},
   "outputs": [
    {
     "ename": "TypeError",
     "evalue": "'tuple' object does not support item assignment",
     "output_type": "error",
     "traceback": [
      "\u001b[1;31m---------------------------------------------------------------------------\u001b[0m",
      "\u001b[1;31mTypeError\u001b[0m                                 Traceback (most recent call last)",
      "\u001b[1;32m<ipython-input-78-9946ebc62b5f>\u001b[0m in \u001b[0;36m<module>\u001b[1;34m\u001b[0m\n\u001b[1;32m----> 1\u001b[1;33m \u001b[0mt\u001b[0m\u001b[1;33m[\u001b[0m\u001b[1;36m0\u001b[0m\u001b[1;33m]\u001b[0m\u001b[1;33m=\u001b[0m\u001b[1;36m0\u001b[0m\u001b[1;33m\u001b[0m\u001b[1;33m\u001b[0m\u001b[0m\n\u001b[0m",
      "\u001b[1;31mTypeError\u001b[0m: 'tuple' object does not support item assignment"
     ]
    }
   ],
   "source": [
    "t[0]=0"
   ]
  },
  {
   "cell_type": "code",
   "execution_count": 79,
   "metadata": {},
   "outputs": [
    {
     "ename": "AttributeError",
     "evalue": "'tuple' object has no attribute 'append'",
     "output_type": "error",
     "traceback": [
      "\u001b[1;31m---------------------------------------------------------------------------\u001b[0m",
      "\u001b[1;31mAttributeError\u001b[0m                            Traceback (most recent call last)",
      "\u001b[1;32m<ipython-input-79-d0908ae6cae4>\u001b[0m in \u001b[0;36m<module>\u001b[1;34m\u001b[0m\n\u001b[1;32m----> 1\u001b[1;33m \u001b[0mt\u001b[0m\u001b[1;33m.\u001b[0m\u001b[0mappend\u001b[0m\u001b[1;33m(\u001b[0m\u001b[1;36m6\u001b[0m\u001b[1;33m)\u001b[0m\u001b[1;33m\u001b[0m\u001b[1;33m\u001b[0m\u001b[0m\n\u001b[0m",
      "\u001b[1;31mAttributeError\u001b[0m: 'tuple' object has no attribute 'append'"
     ]
    }
   ],
   "source": [
    "t.append(6)"
   ]
  },
  {
   "cell_type": "markdown",
   "metadata": {},
   "source": [
    "<p style=\"float: left;font-size:25px;\"><img src=\"GEAR.png\" alt=\"\"  style = \"vertical-align: middle;\"/> Dictionnaries <a name=\"dictionnaries\"></a></p>"
   ]
  },
  {
   "cell_type": "markdown",
   "metadata": {},
   "source": [
    "Les dictionnnaires sont une structure clé/valeur."
   ]
  },
  {
   "cell_type": "code",
   "execution_count": 80,
   "metadata": {},
   "outputs": [
    {
     "name": "stdout",
     "output_type": "stream",
     "text": [
      "{'prenom': 'John', 'nom': 'Smith'}\n"
     ]
    }
   ],
   "source": [
    "personne = {}\n",
    "personne[\"prenom\"] = \"John\"\n",
    "personne[\"nom\"] = \"Smith\"\n",
    "\n",
    "print(personne)"
   ]
  },
  {
   "cell_type": "code",
   "execution_count": 81,
   "metadata": {
    "scrolled": true
   },
   "outputs": [
    {
     "name": "stdout",
     "output_type": "stream",
     "text": [
      "dict_keys(['prenom', 'nom'])\n",
      "dict_values(['John', 'Smith'])\n",
      "dict_items([('prenom', 'John'), ('nom', 'Smith')])\n"
     ]
    }
   ],
   "source": [
    "liste_cles = personne.keys()\n",
    "liste_valeurs = personne.values()\n",
    "liste_items = personne.items()\n",
    "\n",
    "print(liste_cles)\n",
    "print(liste_valeurs)\n",
    "print(liste_items)"
   ]
  },
  {
   "cell_type": "code",
   "execution_count": 82,
   "metadata": {},
   "outputs": [
    {
     "name": "stdout",
     "output_type": "stream",
     "text": [
      "['prenom', 'nom']\n"
     ]
    }
   ],
   "source": [
    "print(list(personne.keys()))"
   ]
  },
  {
   "cell_type": "code",
   "execution_count": 83,
   "metadata": {},
   "outputs": [
    {
     "name": "stdout",
     "output_type": "stream",
     "text": [
      "Smith\n",
      "Doe\n"
     ]
    }
   ],
   "source": [
    "print(personne[\"nom\"])\n",
    "personne[\"nom\"] = \"Doe\"\n",
    "print(personne[\"nom\"])"
   ]
  },
  {
   "cell_type": "code",
   "execution_count": 84,
   "metadata": {},
   "outputs": [
    {
     "name": "stdout",
     "output_type": "stream",
     "text": [
      "{'prenom': 'John', 'nom': 'Doe', 'age': 30}\n"
     ]
    }
   ],
   "source": [
    "personne[\"age\"] = 30\n",
    "print(personne)"
   ]
  },
  {
   "cell_type": "markdown",
   "metadata": {},
   "source": [
    "Autre initialisation de dictionnaire possible : "
   ]
  },
  {
   "cell_type": "code",
   "execution_count": null,
   "metadata": {},
   "outputs": [],
   "source": [
    "personne2 = dict(prenom=\"Emma\",nom=\"Stone\",age=29)\n",
    "print(personne2)"
   ]
  },
  {
   "cell_type": "markdown",
   "metadata": {},
   "source": [
    "<p style=\"float: left;font-size:25px;\"><img src=\"GEAR.png\" alt=\"\"  style = \"vertical-align: middle;\"/> Sets <a name=\"sets\"></a></p>"
   ]
  },
  {
   "cell_type": "markdown",
   "metadata": {},
   "source": [
    "Un set est un ensemble d'élements uniques. \n",
    "Ils permettent d'utiliser des opérations d'ensemble telles que l'union, l'intersection ou la différence."
   ]
  },
  {
   "cell_type": "code",
   "execution_count": 86,
   "metadata": {},
   "outputs": [
    {
     "name": "stdout",
     "output_type": "stream",
     "text": [
      "{'orange', 'pomme', 'banane', 'poire'}\n",
      "True\n",
      "False\n",
      "True\n",
      "{'b', 'c', 'd', 'r', 'a'}\n",
      "{'z', 'c', 'l', 'm', 'a'}\n",
      "{'r', 'd', 'b'}\n",
      "{'b', 'z', 'c', 'l', 'd', 'm', 'r', 'a'}\n",
      "{'c', 'a'}\n",
      "{'m', 'd', 'b', 'r', 'z', 'l'}\n"
     ]
    }
   ],
   "source": [
    "basket = {'pomme', 'orange', 'pomme', 'poire', 'orange', 'banane'}\n",
    "\n",
    "print(basket)\n",
    "\n",
    "print('orange' in basket)\n",
    "print('crabgrass' in basket)\n",
    "\n",
    "ma_liste = [\"entrecote\",\"faux-filet\",\"travers\"]\n",
    "print(\"entrecote\" in ma_liste) # Les listes supportent aussi certaines opérations ensemblistes\n",
    "\n",
    "a = set('abracadabra')\n",
    "b = set('alacazam')\n",
    "\n",
    "print(a)\n",
    "print(b)\n",
    "print(a-b)  \n",
    "print(a|b)\n",
    "print(a&b)\n",
    "print(a^b)"
   ]
  },
  {
   "cell_type": "markdown",
   "metadata": {},
   "source": [
    "<a name=\"flow_control\"></a>\n",
    "\n",
    "<img src=\"FLOW CONTROL.png\">\n"
   ]
  },
  {
   "cell_type": "markdown",
   "metadata": {},
   "source": [
    "<p style=\"float: left;font-size:25px;\"><img src=\"GEAR.png\" alt=\"\"  style = \"vertical-align: middle;\"/> if else elif <a name=\"if\"></a></p>"
   ]
  },
  {
   "cell_type": "code",
   "execution_count": 1,
   "metadata": {},
   "outputs": [
    {
     "name": "stdout",
     "output_type": "stream",
     "text": [
      "B\n"
     ]
    }
   ],
   "source": [
    "note = 8\n",
    "\n",
    "if note >= 8.5:\n",
    "    print(\"A\")\n",
    "    print(\"D\")\n",
    "    if note >= 9.5:\n",
    "        print(\"A\")\n",
    "        print(\"D\")\n",
    "elif note >= 7: \n",
    "    print(\"B\")\n",
    "elif note >= 5:\n",
    "    print(\"C\")\n",
    "else:\n",
    "    print(\"D\")\n",
    "\n",
    "# => B"
   ]
  },
  {
   "cell_type": "markdown",
   "metadata": {},
   "source": [
    "<div class=\"alert alert-block alert-warning\">\n",
    "    <p> Encore une fois en python, c'est l'indentation qui permet de structurer le code.</p>\n",
    "</div>\n"
   ]
  },
  {
   "cell_type": "markdown",
   "metadata": {},
   "source": [
    "[![](YT.PNG)](../TP/TP-python-base-exo.ipynb#condi)"
   ]
  },
  {
   "cell_type": "markdown",
   "metadata": {},
   "source": [
    "<p style=\"float: left;font-size:25px;\"><img src=\"GEAR.png\" alt=\"\"  style = \"vertical-align: middle;\"/> Loops <a name=\"loops\"></a></p>"
   ]
  },
  {
   "cell_type": "markdown",
   "metadata": {},
   "source": [
    "#### for"
   ]
  },
  {
   "cell_type": "code",
   "execution_count": 3,
   "metadata": {},
   "outputs": [
    {
     "name": "stdout",
     "output_type": "stream",
     "text": [
      "0\n",
      "0\n",
      "1\n",
      "titi\n"
     ]
    }
   ],
   "source": [
    "for i in [0, 1, 2, 3]:\n",
    "    k = i\n",
    "    while(k<2):\n",
    "        k = k + 1\n",
    "        print(i)\n",
    "#Pour chaque I dans [0, 1, 2, 3] alors (:)\n",
    "print(\"titi\")\n"
   ]
  },
  {
   "cell_type": "markdown",
   "metadata": {},
   "source": [
    "Il est possible de parcourir les éléments d'une liste ou d'un dictionnaire."
   ]
  },
  {
   "cell_type": "code",
   "execution_count": 3,
   "metadata": {},
   "outputs": [
    {
     "name": "stdout",
     "output_type": "stream",
     "text": [
      "{'nom': 'Smith', 'prenom': 'John'}\n",
      "dict_items([('nom', 'Smith'), ('prenom', 'John')])\n",
      "la clé est nom, la valeur est Smith\n",
      "la clé est prenom, la valeur est John\n"
     ]
    }
   ],
   "source": [
    "personne = { \"nom\": \"Smith\", \"prenom\":\"John\"}\n",
    "print(personne)\n",
    "print(personne.items())\n",
    "for key,val in personne.items():\n",
    "    print(\"la clé est {}, la valeur est {}\".format(key, val))"
   ]
  },
  {
   "cell_type": "markdown",
   "metadata": {},
   "source": [
    "La fonction enumerate permet de créer un indice qui est automatiquement itéré au fur et à mesure que la liste est parcourue."
   ]
  },
  {
   "cell_type": "code",
   "execution_count": 7,
   "metadata": {},
   "outputs": [
    {
     "name": "stdout",
     "output_type": "stream",
     "text": [
      "0 nom\n",
      "1 prenom\n"
     ]
    }
   ],
   "source": [
    "for i,p in enumerate(personne):\n",
    "    print(i,p)"
   ]
  },
  {
   "cell_type": "markdown",
   "metadata": {},
   "source": [
    "#### while"
   ]
  },
  {
   "cell_type": "markdown",
   "metadata": {},
   "source": [
    "L'opérateur **while** teste une condition et continue tant que celle-ci est vérifiée."
   ]
  },
  {
   "cell_type": "code",
   "execution_count": 8,
   "metadata": {},
   "outputs": [
    {
     "name": "stdout",
     "output_type": "stream",
     "text": [
      "100\n",
      "50.0\n",
      "25.0\n",
      "12.5\n"
     ]
    }
   ],
   "source": [
    "num = 100\n",
    "while num > 10: \n",
    "    print(num)\n",
    "    num /= 2\n",
    "\n",
    "#Tant que num est superieur a 10 alors:"
   ]
  },
  {
   "cell_type": "markdown",
   "metadata": {},
   "source": [
    "[![](YT.PNG)](../TP/TP-python-base-exo.ipynb#bcl)"
   ]
  },
  {
   "cell_type": "markdown",
   "metadata": {},
   "source": [
    "<p style=\"float: left;font-size:25px;\"><img src=\"GEAR.png\" alt=\"\"  style = \"vertical-align: middle;\"/> List Comprehension <a name=\"list_comp\"></a></p>"
   ]
  },
  {
   "cell_type": "markdown",
   "metadata": {},
   "source": [
    "Les **list comprehension** sont une particularité de Python.  \n",
    "C'est une fonctionnalité permettant de créer à la volée une liste.  "
   ]
  },
  {
   "cell_type": "code",
   "execution_count": 9,
   "metadata": {
    "scrolled": true
   },
   "outputs": [
    {
     "name": "stdout",
     "output_type": "stream",
     "text": [
      "[0, 4, 8]\n"
     ]
    }
   ],
   "source": [
    "even_list = [x*2 for x in [0, 1, 2, 3, 4] if x % 2 == 0]\n",
    "print(even_list)"
   ]
  },
  {
   "cell_type": "markdown",
   "metadata": {},
   "source": [
    "La plupart des fonctions natives de Python ne s'appliquent pas sur des listes.  \n",
    "Les **list comprehension** permettent d'appliuer ces fonctions à tous les éléments d'une liste un à un."
   ]
  },
  {
   "cell_type": "code",
   "execution_count": null,
   "metadata": {},
   "outputs": [],
   "source": [
    "liste_valeurs = list(range(5))\n",
    "liste_valeurs < 3 #ne fonctionne pas"
   ]
  },
  {
   "cell_type": "code",
   "execution_count": null,
   "metadata": {},
   "outputs": [],
   "source": [
    "[x<3 for x in liste_valeurs]"
   ]
  },
  {
   "cell_type": "markdown",
   "metadata": {},
   "source": [
    "<p style=\"float: left;font-size:25px;\"><img src=\"GEAR.png\" alt=\"\"  style = \"vertical-align: middle;\"/> Continue break <a name=\"continue\"></a></p>"
   ]
  },
  {
   "cell_type": "markdown",
   "metadata": {},
   "source": [
    "**continue** permet de sauter la suite de l'étape en cours pour passer à la suivante."
   ]
  },
  {
   "cell_type": "code",
   "execution_count": 10,
   "metadata": {
    "scrolled": true
   },
   "outputs": [
    {
     "name": "stdout",
     "output_type": "stream",
     "text": [
      "s\n",
      "t\n",
      "r\n",
      "n\n",
      "g\n",
      "The end\n"
     ]
    }
   ],
   "source": [
    "for val in \"string\":\n",
    "    if val == \"i\":\n",
    "        continue\n",
    "    print(val)\n",
    "\n",
    "print(\"The end\")"
   ]
  },
  {
   "cell_type": "markdown",
   "metadata": {},
   "source": [
    "break sort de la boucle instantanément."
   ]
  },
  {
   "cell_type": "code",
   "execution_count": 11,
   "metadata": {},
   "outputs": [
    {
     "name": "stdout",
     "output_type": "stream",
     "text": [
      "s\n",
      "t\n",
      "r\n",
      "The end\n"
     ]
    }
   ],
   "source": [
    "# Use of break statement inside loop\n",
    "\n",
    "for val in \"string\":\n",
    "    if val == \"i\":\n",
    "        break\n",
    "    print(val)\n",
    "\n",
    "print(\"The end\")"
   ]
  },
  {
   "cell_type": "markdown",
   "metadata": {},
   "source": [
    "<p style=\"float: left;font-size:25px;\"><img src=\"GEAR.png\" alt=\"\"  style = \"vertical-align: middle;\"/> Errors <a name=\"errors\"></a></p>"
   ]
  },
  {
   "cell_type": "markdown",
   "metadata": {},
   "source": [
    "Gestion des erreurs: utilisation de **try** et **except**\n",
    "\n",
    "\n",
    "<div class=\"alert alert-block alert-warning\">\n",
    "    <p><b>Attention</b> Ne permet pas de gérer les erreurs de syntaxe.</p>\n",
    "</div>\n"
   ]
  },
  {
   "cell_type": "code",
   "execution_count": 22,
   "metadata": {},
   "outputs": [
    {
     "ename": "ValueError",
     "evalue": "could not convert string to float: 'test'",
     "output_type": "error",
     "traceback": [
      "\u001b[1;31m---------------------------------------------------------------------------\u001b[0m",
      "\u001b[1;31mValueError\u001b[0m                                Traceback (most recent call last)",
      "\u001b[1;32m<ipython-input-22-d4aa73a2e33e>\u001b[0m in \u001b[0;36m<module>\u001b[1;34m\u001b[0m\n\u001b[0;32m      1\u001b[0m \u001b[1;31m# Essai de changer un character en float\u001b[0m\u001b[1;33m\u001b[0m\u001b[1;33m\u001b[0m\u001b[1;33m\u001b[0m\u001b[0m\n\u001b[0;32m      2\u001b[0m \u001b[1;33m\u001b[0m\u001b[0m\n\u001b[1;32m----> 3\u001b[1;33m \u001b[0mfloat\u001b[0m\u001b[1;33m(\u001b[0m\u001b[1;34m'test'\u001b[0m\u001b[1;33m)\u001b[0m\u001b[1;33m\u001b[0m\u001b[1;33m\u001b[0m\u001b[0m\n\u001b[0m",
      "\u001b[1;31mValueError\u001b[0m: could not convert string to float: 'test'"
     ]
    }
   ],
   "source": [
    "# Essai de changer un character en float\n",
    "\n",
    "float('test')"
   ]
  },
  {
   "cell_type": "code",
   "execution_count": 23,
   "metadata": {},
   "outputs": [
    {
     "name": "stdout",
     "output_type": "stream",
     "text": [
      "c'est bien un float\n",
      "c'est bien un float\n",
      "Ceci n'est pas un float\n"
     ]
    }
   ],
   "source": [
    "def test_float(x):\n",
    "    try:\n",
    "        x = float(x)\n",
    "        print(\"c'est bien un float\")\n",
    "    except ValueError:\n",
    "        print(\"Ceci n'est pas un float\")\n",
    "\n",
    "        \n",
    "test_float(23)\n",
    "test_float(23.3)\n",
    "test_float(\"hello world\")"
   ]
  },
  {
   "cell_type": "markdown",
   "metadata": {},
   "source": [
    "[![](YT.PNG)](../TP/TP-python-base-exo.ipynb#divr)"
   ]
  }
 ],
 "metadata": {
  "kernelspec": {
   "display_name": "Python 3",
   "language": "python",
   "name": "python3"
  },
  "language_info": {
   "codemirror_mode": {
    "name": "ipython",
    "version": 3
   },
   "file_extension": ".py",
   "mimetype": "text/x-python",
   "name": "python",
   "nbconvert_exporter": "python",
   "pygments_lexer": "ipython3",
   "version": "3.7.6"
  }
 },
 "nbformat": 4,
 "nbformat_minor": 4
}
